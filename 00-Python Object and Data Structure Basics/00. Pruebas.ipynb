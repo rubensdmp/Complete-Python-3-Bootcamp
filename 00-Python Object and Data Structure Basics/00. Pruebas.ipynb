{
 "cells": [
  {
   "cell_type": "code",
   "execution_count": 6,
   "id": "cea6bc24",
   "metadata": {},
   "outputs": [
    {
     "data": {
      "text/plain": [
       "'hmo'"
      ]
     },
     "execution_count": 6,
     "metadata": {},
     "output_type": "execute_result"
    }
   ],
   "source": [
    "cadena = \"humboldt\"\n",
    "#[start:stop:step]\n",
    "cadena[0:5:2]"
   ]
  },
  {
   "cell_type": "code",
   "execution_count": 5,
   "id": "d6a4b6e4",
   "metadata": {
    "scrolled": true
   },
   "outputs": [],
   "source": [
    "cats = 2\n",
    "cats = [\"humboldt\", \"lana\"]\n"
   ]
  }
 ],
 "metadata": {
  "kernelspec": {
   "display_name": "Python 3",
   "language": "python",
   "name": "python3"
  },
  "language_info": {
   "codemirror_mode": {
    "name": "ipython",
    "version": 3
   },
   "file_extension": ".py",
   "mimetype": "text/x-python",
   "name": "python",
   "nbconvert_exporter": "python",
   "pygments_lexer": "ipython3",
   "version": "3.8.8"
  }
 },
 "nbformat": 4,
 "nbformat_minor": 5
}
